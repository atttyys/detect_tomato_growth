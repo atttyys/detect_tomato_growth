{
 "cells": [
  {
   "cell_type": "code",
   "execution_count": null,
   "metadata": {},
   "outputs": [],
   "source": [
    "import json\n",
    "import os\n",
    "\n",
    "from pycocotools.coco import COCO\n",
    "from pycocotools.cocoeval import COCOeval\n",
    "\n",
    "# Load the COCO JSON file\n",
    "with open(\"coco.json\", \"r\") as f:\n",
    "    coco_json = json.load(f)\n",
    "\n",
    "# Create a COCO object\n",
    "coco = COCO()\n",
    "\n",
    "# Add the data to the COCO object\n",
    "coco.dataset = coco_json\n",
    "coco.createIndex()\n",
    "\n",
    "# Print some information about the dataset\n",
    "print(\"Number of images:\", len(coco.dataset[\"images\"]))\n",
    "print(\"Number of categories:\", len(coco.dataset[\"categories\"]))\n",
    "print(\"Number of annotations:\", len(coco.dataset[\"annotations\"]))\n",
    "\n",
    "# Load the image files\n",
    "image_dir = \"images\"\n",
    "for image in coco.dataset[\"images\"]:\n",
    "    image_path = os.path.join(image_dir, image[\"file_name\"])\n",
    "    image[\"image_data\"] = Image.open(image_path)\n",
    "\n",
    "# Split the data into a training set and a validation set\n",
    "training_set, validation_set = train_test_split(coco.dataset, test_size=0.2)\n",
    "\n",
    "# Save the datasets to files\n",
    "with open(\"laboro_tomato\\_annotations\\_train.json\", \"w\") as f:\n",
    "    json.dump(training_set, f)\n",
    "\n",
    "with open(\"validation_set.json\", \"w\") as f:\n",
    "    json.dump(validation_set, f)\n"
   ]
  }
 ],
 "metadata": {
  "kernelspec": {
   "display_name": "Python 3 (ipykernel)",
   "language": "python",
   "name": "python3"
  },
  "language_info": {
   "codemirror_mode": {
    "name": "ipython",
    "version": 3
   },
   "file_extension": ".py",
   "mimetype": "text/x-python",
   "name": "python",
   "nbconvert_exporter": "python",
   "pygments_lexer": "ipython3",
   "version": "3.9.15"
  },
  "vscode": {
   "interpreter": {
    "hash": "0e8736c4f41bfcdf5cd4a02e53bef9341d4cefc5d323b301e3223afddc284ef1"
   }
  }
 },
 "nbformat": 4,
 "nbformat_minor": 2
}
